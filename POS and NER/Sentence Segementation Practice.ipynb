{
 "cells": [
  {
   "cell_type": "markdown",
   "metadata": {},
   "source": [
    "## Sentence Segmentation"
   ]
  },
  {
   "cell_type": "code",
   "execution_count": 35,
   "metadata": {},
   "outputs": [],
   "source": [
    "import spacy\n",
    "nlp = spacy.load('en_core_web_sm')"
   ]
  },
  {
   "cell_type": "code",
   "execution_count": 36,
   "metadata": {},
   "outputs": [
    {
     "name": "stdout",
     "output_type": "stream",
     "text": [
      "This is the first sentence.\n",
      "This is the second sentence.\n",
      "This is the third sentence.\n",
      "[This is the first sentence., This is the second sentence., This is the third sentence.]\n",
      "<class 'spacy.tokens.span.Span'>\n"
     ]
    }
   ],
   "source": [
    "doc = nlp(u\"This is the first sentence. This is the second sentence. This is the third sentence.\")\n",
    "for sent in doc.sents:\n",
    "    print(sent)\n",
    "\n",
    "# doc.sents[0] will give an error as this doc.sents is a generative statement and does not hold individual sentences in memory. \n",
    "# To do sentence interations, we need to do the following\n",
    "\n",
    "print(list(doc.sents))\n",
    "\n",
    "#The type of each sentence is Span object\n",
    "print(type(list(doc.sents)[0]))\n"
   ]
  },
  {
   "cell_type": "code",
   "execution_count": 37,
   "metadata": {},
   "outputs": [
    {
     "name": "stdout",
     "output_type": "stream",
     "text": [
      "\"Management is doing the right things; leadership is doing the right things.\" -Peter Drucker\n",
      "\"Management is doing the right things; leadership is doing the right things.\"\n",
      "-Peter Drucker\n"
     ]
    }
   ],
   "source": [
    "doc1 = nlp(u'\"Management is doing the right things; leadership is doing the right things.\" -Peter Drucker')\n",
    "print(doc1.text)\n",
    "\n",
    "for sent in doc1.sents:\n",
    "    print(sent)"
   ]
  },
  {
   "cell_type": "markdown",
   "metadata": {},
   "source": [
    "### Adding Segmentation Rules"
   ]
  },
  {
   "cell_type": "code",
   "execution_count": 38,
   "metadata": {},
   "outputs": [
    {
     "name": "stdout",
     "output_type": "stream",
     "text": [
      "Old Pipeline: ['tok2vec', 'tagger', 'parser', 'ner', 'attribute_ruler', 'lemmatizer']\n",
      "Modified Pipeline: ['tok2vec', 'tagger', 'set_custom_boundaries', 'parser', 'ner', 'attribute_ruler', 'lemmatizer']\n"
     ]
    }
   ],
   "source": [
    "from spacy.language import Language\n",
    "\n",
    "@Language.component('set_custom_boundaries') # Added for version Spacy v3 - https://spacy.io/usage/v3#migrating-add-pipe\n",
    "def set_custom_boundaries(doc):\n",
    "    for token in doc[:-1]: #[:-1] is used to exclude the last token to avoid index out of range error\n",
    "        if token.text == ';': # ; is the token to be used as a sentence boundary\n",
    "            doc[token.i+1].is_sent_start = True\n",
    "    return doc\n",
    "\n",
    "print(\"Old Pipeline:\", nlp.pipe_names)\n",
    "nlp.add_pipe('set_custom_boundaries', before='parser')\n",
    "print(\"Modified Pipeline:\", nlp.pipe_names)"
   ]
  },
  {
   "cell_type": "code",
   "execution_count": 39,
   "metadata": {},
   "outputs": [
    {
     "name": "stdout",
     "output_type": "stream",
     "text": [
      "\n",
      "\n",
      "UPDATED SENTENCE SEGMENTATION:\n",
      "\n",
      "\"Management is doing the right things; leadership is doing the right things.\"\n",
      "-Peter Drucker\n"
     ]
    }
   ],
   "source": [
    "print(\"\\n\\nUPDATED SENTENCE SEGMENTATION:\\n\")\n",
    "for sent in doc1.sents:\n",
    "    print(sent)\n"
   ]
  },
  {
   "cell_type": "markdown",
   "metadata": {},
   "source": [
    "### Changing Segmentation Rules"
   ]
  },
  {
   "cell_type": "code",
   "execution_count": 40,
   "metadata": {},
   "outputs": [
    {
     "name": "stdout",
     "output_type": "stream",
     "text": [
      "This is the first sentence.\n",
      "This is the second sentence.\n",
      "\n",
      "\n",
      "\n",
      "This is the \n",
      "third sentence.\n"
     ]
    }
   ],
   "source": [
    "nlp1 = spacy.load('en_core_web_sm')\n",
    "doc2 = nlp1(u\"This is the first sentence. This is the second sentence.\\n\\nThis is the \\nthird sentence.\")\n",
    "#print(doc2.text)\n",
    "\n",
    "for sent in doc2.sents:\n",
    "    print(sent)"
   ]
  },
  {
   "cell_type": "markdown",
   "metadata": {},
   "source": [
    "If this were a poem, we would be doing the sentence segmentation over the \\n (line breaks) rather than the full stops, hence we need to entirely change the segmentation rules."
   ]
  },
  {
   "cell_type": "markdown",
   "metadata": {},
   "source": [
    "### Code to change sentence segmenter spacy v2"
   ]
  },
  {
   "cell_type": "markdown",
   "metadata": {},
   "source": [
    "from spacy.pipeline import SentenceSegmenter\n",
    "\n",
    "def split_on_newlines(doc):\n",
    "    start = 0\n",
    "    seen_newline = False\n",
    "\n",
    "    for word in doc:\n",
    "        if seen_newline:\n",
    "            yield doc[start:word.i]\n",
    "            start = word.i\n",
    "            seen_newline = False\n",
    "        elif word.text.startswith('\\n'):\n",
    "            seen_newline = True\n",
    "    yield doc[start:]     \n",
    "\n",
    "    sbd = SentenceSegmenter(nlp.vocab,strategy=split_on_newlines)\n",
    "    nlp1.add_pipe(sbd)\n",
    "   "
   ]
  }
 ],
 "metadata": {
  "interpreter": {
   "hash": "2033fae31b60fc09b0410e6916138161f2265a1f0b978fd9432b12aebe255faf"
  },
  "kernelspec": {
   "display_name": "Python 3.7.10 64-bit ('nlp_course': conda)",
   "name": "python3"
  },
  "language_info": {
   "codemirror_mode": {
    "name": "ipython",
    "version": 3
   },
   "file_extension": ".py",
   "mimetype": "text/x-python",
   "name": "python",
   "nbconvert_exporter": "python",
   "pygments_lexer": "ipython3",
   "version": "3.7.10"
  },
  "orig_nbformat": 4
 },
 "nbformat": 4,
 "nbformat_minor": 2
}
